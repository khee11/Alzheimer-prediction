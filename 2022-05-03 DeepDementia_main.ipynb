{
 "cells": [
  {
   "cell_type": "code",
   "execution_count": 1,
   "id": "0246c0be",
   "metadata": {},
   "outputs": [],
   "source": [
    "import torch\n",
    "\n",
    "torch.backends.cudnn.enabled = False   # cuDNN 사용 여부를 제어 하는 bool"
   ]
  },
  {
   "cell_type": "markdown",
   "id": "cb61c58a",
   "metadata": {},
   "source": [
    "### Argparser\n",
    "- https://brownbears.tistory.com/413"
   ]
  },
  {
   "cell_type": "code",
   "execution_count": 2,
   "id": "d843ce5b",
   "metadata": {},
   "outputs": [
    {
     "name": "stderr",
     "output_type": "stream",
     "text": [
      "usage: __main__.py [-h] [--config CONFIG] [--expansion EXPANSION]\n",
      "                   [--percentage_usage PERCENTAGE_USAGE]\n",
      "__main__.py: error: unrecognized arguments: -f /home/ubuntu/.local/share/jupyter/runtime/kernel-073ff12a-a678-4b37-879b-cc10283b0475.json\n"
     ]
    },
    {
     "ename": "SystemExit",
     "evalue": "2",
     "output_type": "error",
     "traceback": [
      "An exception has occurred, use %tb to see the full traceback.\n",
      "\u001b[0;31mSystemExit\u001b[0m\u001b[0;31m:\u001b[0m 2\n"
     ]
    },
    {
     "name": "stderr",
     "output_type": "stream",
     "text": [
      "/home/ubuntu/anaconda3/envs/AD_Heewon/lib/python3.7/site-packages/IPython/core/interactiveshell.py:3435: UserWarning: To exit: use 'exit', 'quit', or Ctrl-D.\n",
      "  warn(\"To exit: use 'exit', 'quit', or Ctrl-D.\", stacklevel=1)\n"
     ]
    }
   ],
   "source": [
    "import argparse\n",
    "\n",
    "# 인자값을 받을 수 있는 인스턴스 생성\n",
    "parser = argparse.ArgumentParser()\n",
    "\n",
    "# 입력받을 인자값 등록\n",
    "parser.add_argument(\"--config\",\n",
    "                    type=str,\n",
    "                    default=\"config\",   # 아무것도 입력하지 않았을 때의 값\n",
    "                    required=False,   # 필수로 입력받아야 하는가?\n",
    "                    help=\"config\")\n",
    "parser.add_argument(\"--expansion\",\n",
    "                    type=int,\n",
    "                    default=0,\n",
    "                    required=False,\n",
    "                    help=\"expansions to decide the width of the model\")\n",
    "\n",
    "parser.add_argument(\"--percentage_usage\",type=float,\n",
    "                    default=1.0,\n",
    "                    required=False,\n",
    "                    help=\"percentage of data to use for training\")\n",
    "\n",
    "# 입력받은 인자값을 arguments에 저장 (type: namespace)\n",
    "arguments = parser.parse_args()\n",
    "\n",
    "# 입력받은 인자값 출력\n",
    "print(arguments.config)\n",
    "#print(arguments.expansion)\n",
    "#print(arguments.percentage_usage)\n"
   ]
  },
  {
   "cell_type": "code",
   "execution_count": 7,
   "id": "09e14dea",
   "metadata": {},
   "outputs": [
    {
     "data": {
      "text/plain": [
       "<__main__.parser at 0x7f73d6104210>"
      ]
     },
     "execution_count": 7,
     "metadata": {},
     "output_type": "execute_result"
    }
   ],
   "source": [
    "arguments"
   ]
  },
  {
   "cell_type": "code",
   "execution_count": 5,
   "id": "0bae1df5",
   "metadata": {},
   "outputs": [],
   "source": [
    "class parser():\n",
    "    config = 'config'\n",
    "    expansion = 0\n",
    "    percentage_usage = 1.0"
   ]
  },
  {
   "cell_type": "code",
   "execution_count": 9,
   "id": "3f2b971c",
   "metadata": {},
   "outputs": [
    {
     "name": "stdout",
     "output_type": "stream",
     "text": [
      "config\n",
      "0\n",
      "1.0\n"
     ]
    }
   ],
   "source": [
    "arguments = parser()\n",
    "\n",
    "print(arguments.config)\n",
    "print(arguments.expansion)\n",
    "print(arguments.percentage_usage)"
   ]
  },
  {
   "cell_type": "markdown",
   "id": "bbf366fe",
   "metadata": {},
   "source": [
    "* How to run Argparse.py file?\n",
    "- python3 Argparse.py [--config=config] [--expansion=expansion] [--percentage_usage PERCENTAGE_USAGE]"
   ]
  },
  {
   "cell_type": "markdown",
   "id": "0e01b92a",
   "metadata": {},
   "source": [
    "------------------------------------------------------------------------------------------------------------------------------------"
   ]
  },
  {
   "cell_type": "markdown",
   "id": "2afb7853",
   "metadata": {},
   "source": [
    "### Yaml data load\n",
    "- Yaml format이란?\n",
    "https://www.inflearn.com/questions/16184"
   ]
  },
  {
   "cell_type": "code",
   "execution_count": 11,
   "id": "25fb8349",
   "metadata": {},
   "outputs": [],
   "source": [
    "best_prec1 = 0\n",
    "best_loss = 1000\n",
    "best_micro_auc = 0\n",
    "best_macro_auc = 0"
   ]
  },
  {
   "cell_type": "code",
   "execution_count": 12,
   "id": "2c6fc865",
   "metadata": {},
   "outputs": [
    {
     "name": "stderr",
     "output_type": "stream",
     "text": [
      "/home/ubuntu/anaconda3/envs/AD_Heewon/lib/python3.7/site-packages/ipykernel/__main__.py:5: YAMLLoadWarning: calling yaml.load() without Loader=... is deprecated, as the default Loader is unsafe. Please read https://msg.pyyaml.org/load for full details.\n"
     ]
    }
   ],
   "source": [
    "import os\n",
    "import yaml\n",
    "\n",
    "with open(os.path.join('./'+arguments.config+'.yaml'), 'r') as f:\n",
    "    cfg = yaml.load(f)"
   ]
  },
  {
   "cell_type": "code",
   "execution_count": 14,
   "id": "fd9c09d0",
   "metadata": {},
   "outputs": [
    {
     "data": {
      "text/plain": [
       "'./datasets/files'"
      ]
     },
     "execution_count": 14,
     "metadata": {},
     "output_type": "execute_result"
    }
   ],
   "source": [
    "cfg['data']['dir_to_tsv']"
   ]
  },
  {
   "cell_type": "code",
   "execution_count": 34,
   "id": "2f007c43",
   "metadata": {},
   "outputs": [
    {
     "data": {
      "text/plain": [
       "{'file_name': './saved_model/1007_pooling_age_cdr_NACC',\n",
       " 'data': {'data_root_dir': 'data/',\n",
       "  'dir_to_scans': '/gpfs/data/razavianlab/data/mri/adni_pp_all/ADNI_processed/subjects',\n",
       "  'dir_to_tsv': './datasets/files',\n",
       "  'batch_size': 8,\n",
       "  'val_batch_size': 2,\n",
       "  'workers': 4,\n",
       "  'percentage_usage': 1.0,\n",
       "  'raw_data': False},\n",
       " 'exp_name': '1007_pooling_age_cdr_NACC',\n",
       " 'visdom': {'port': 8628, 'server': 'skygpu07'},\n",
       " 'model': {'arch': 'ours',\n",
       "  'input_channel': 1,\n",
       "  'nhid': 512,\n",
       "  'feature_dim': 1024,\n",
       "  'n_label': 3,\n",
       "  'expansion': 8,\n",
       "  'num_blocks': 0,\n",
       "  'type_name': 'conv3x3x3',\n",
       "  'norm_type': 'Instance'},\n",
       " 'training_parameters': {'weight': ['1.0/4', '1.0/4', '1.0/2'],\n",
       "  'use_age': False,\n",
       "  'pretrain': None,\n",
       "  'max_iter': 16000,\n",
       "  'start_epoch': 0,\n",
       "  'epochs': 50,\n",
       "  'print_freq': 10,\n",
       "  'max_grad_l2_norm': None,\n",
       "  'report_interval': 100,\n",
       "  'snapshot_interval': 1000},\n",
       " 'optimizer': {'method': 'SGD', 'par': {'lr': 0.01, 'weight_decay': 5e-05}}}"
      ]
     },
     "execution_count": 34,
     "metadata": {},
     "output_type": "execute_result"
    }
   ],
   "source": [
    "cfg"
   ]
  },
  {
   "cell_type": "code",
   "execution_count": 10,
   "id": "8025bbbc",
   "metadata": {},
   "outputs": [],
   "source": [
    "# Parser로 load할 yaml data info 수정\n",
    "if arguments.expansion > 0:\n",
    "    cfg['model']['expansion'] = arguments.expansion\n",
    "if arguments.percentage_usage < 1.0:\n",
    "    cfg['data']['percentage_usage'] = arguments.percentage_usage\n",
    "    \n",
    "cfg['file_name'] = cfg['file_name']+'_train_perc_'+str(cfg['data']['percentage_usage']*100)+'_expansion_'+str(cfg['model']['expansion'])+'.pth.tar' \n",
    "cfg['exp_name'] = cfg['exp_name']+'_train_perc_'+str(cfg['data']['percentage_usage']*100)+'_expansion_'+str(cfg['model']['expansion'] )\n",
    "\n",
    "device = torch.device(\"cuda:0\" if torch.cuda.is_available() else \"cpu\")"
   ]
  },
  {
   "cell_type": "code",
   "execution_count": 11,
   "id": "a6182cb7",
   "metadata": {},
   "outputs": [
    {
     "data": {
      "text/plain": [
       "{'file_name': './saved_model/1007_pooling_age_cdr_NACC_train_perc_100.0_expansion_8.pth.tar',\n",
       " 'data': {'data_root_dir': 'data/',\n",
       "  'dir_to_scans': '/gpfs/data/razavianlab/data/mri/adni_pp_all/ADNI_processed/subjects',\n",
       "  'dir_to_tsv': './datasets/files',\n",
       "  'batch_size': 8,\n",
       "  'val_batch_size': 2,\n",
       "  'workers': 4,\n",
       "  'percentage_usage': 1.0,\n",
       "  'raw_data': False},\n",
       " 'exp_name': '1007_pooling_age_cdr_NACC_train_perc_100.0_expansion_8',\n",
       " 'visdom': {'port': 8628, 'server': 'skygpu07'},\n",
       " 'model': {'arch': 'ours',\n",
       "  'input_channel': 1,\n",
       "  'nhid': 512,\n",
       "  'feature_dim': 1024,\n",
       "  'n_label': 3,\n",
       "  'expansion': 8,\n",
       "  'num_blocks': 0,\n",
       "  'type_name': 'conv3x3x3',\n",
       "  'norm_type': 'Instance'},\n",
       " 'training_parameters': {'weight': ['1.0/4', '1.0/4', '1.0/2'],\n",
       "  'use_age': False,\n",
       "  'pretrain': None,\n",
       "  'max_iter': 16000,\n",
       "  'start_epoch': 0,\n",
       "  'epochs': 50,\n",
       "  'print_freq': 10,\n",
       "  'max_grad_l2_norm': None,\n",
       "  'report_interval': 100,\n",
       "  'snapshot_interval': 1000},\n",
       " 'optimizer': {'method': 'SGD', 'par': {'lr': 0.01, 'weight_decay': 5e-05}}}"
      ]
     },
     "execution_count": 11,
     "metadata": {},
     "output_type": "execute_result"
    }
   ],
   "source": [
    "cfg"
   ]
  },
  {
   "cell_type": "markdown",
   "id": "2b398807",
   "metadata": {},
   "source": [
    "## .tsv data load"
   ]
  },
  {
   "cell_type": "code",
   "execution_count": 12,
   "id": "4421f2de",
   "metadata": {},
   "outputs": [],
   "source": [
    "import pandas as pd"
   ]
  },
  {
   "cell_type": "code",
   "execution_count": 13,
   "id": "7a56e316",
   "metadata": {},
   "outputs": [
    {
     "data": {
      "text/html": [
       "<div>\n",
       "<style scoped>\n",
       "    .dataframe tbody tr th:only-of-type {\n",
       "        vertical-align: middle;\n",
       "    }\n",
       "\n",
       "    .dataframe tbody tr th {\n",
       "        vertical-align: top;\n",
       "    }\n",
       "\n",
       "    .dataframe thead th {\n",
       "        text-align: right;\n",
       "    }\n",
       "</style>\n",
       "<table border=\"1\" class=\"dataframe\">\n",
       "  <thead>\n",
       "    <tr style=\"text-align: right;\">\n",
       "      <th></th>\n",
       "      <th>participant_id</th>\n",
       "      <th>session_id</th>\n",
       "      <th>diagnosis</th>\n",
       "      <th>mmse</th>\n",
       "      <th>cdr</th>\n",
       "      <th>age_rounded</th>\n",
       "    </tr>\n",
       "  </thead>\n",
       "  <tbody>\n",
       "    <tr>\n",
       "      <th>0</th>\n",
       "      <td>sub-ADNI133S0792</td>\n",
       "      <td>ses-M18</td>\n",
       "      <td>MCI</td>\n",
       "      <td>30.0</td>\n",
       "      <td>0.5</td>\n",
       "      <td>75.0</td>\n",
       "    </tr>\n",
       "    <tr>\n",
       "      <th>1</th>\n",
       "      <td>sub-ADNI133S0792</td>\n",
       "      <td>ses-M00</td>\n",
       "      <td>MCI</td>\n",
       "      <td>30.0</td>\n",
       "      <td>0.5</td>\n",
       "      <td>73.5</td>\n",
       "    </tr>\n",
       "    <tr>\n",
       "      <th>2</th>\n",
       "      <td>sub-ADNI133S0792</td>\n",
       "      <td>ses-M06</td>\n",
       "      <td>MCI</td>\n",
       "      <td>29.0</td>\n",
       "      <td>0.5</td>\n",
       "      <td>74.0</td>\n",
       "    </tr>\n",
       "    <tr>\n",
       "      <th>3</th>\n",
       "      <td>sub-ADNI133S0792</td>\n",
       "      <td>ses-M12</td>\n",
       "      <td>MCI</td>\n",
       "      <td>29.0</td>\n",
       "      <td>0.5</td>\n",
       "      <td>74.5</td>\n",
       "    </tr>\n",
       "    <tr>\n",
       "      <th>4</th>\n",
       "      <td>sub-ADNI133S0792</td>\n",
       "      <td>ses-M24</td>\n",
       "      <td>MCI</td>\n",
       "      <td>28.0</td>\n",
       "      <td>0.5</td>\n",
       "      <td>75.5</td>\n",
       "    </tr>\n",
       "    <tr>\n",
       "      <th>...</th>\n",
       "      <td>...</td>\n",
       "      <td>...</td>\n",
       "      <td>...</td>\n",
       "      <td>...</td>\n",
       "      <td>...</td>\n",
       "      <td>...</td>\n",
       "    </tr>\n",
       "    <tr>\n",
       "      <th>3001</th>\n",
       "      <td>sub-AIBL289</td>\n",
       "      <td>ses-M18</td>\n",
       "      <td>CN</td>\n",
       "      <td>29.0</td>\n",
       "      <td>0.0</td>\n",
       "      <td>63.0</td>\n",
       "    </tr>\n",
       "    <tr>\n",
       "      <th>3002</th>\n",
       "      <td>sub-AIBL473</td>\n",
       "      <td>ses-M00</td>\n",
       "      <td>MCI</td>\n",
       "      <td>28.0</td>\n",
       "      <td>0.5</td>\n",
       "      <td>81.5</td>\n",
       "    </tr>\n",
       "    <tr>\n",
       "      <th>3003</th>\n",
       "      <td>sub-AIBL1541</td>\n",
       "      <td>ses-M00</td>\n",
       "      <td>CN</td>\n",
       "      <td>29.0</td>\n",
       "      <td>0.0</td>\n",
       "      <td>72.5</td>\n",
       "    </tr>\n",
       "    <tr>\n",
       "      <th>3004</th>\n",
       "      <td>sub-AIBL234</td>\n",
       "      <td>ses-M00</td>\n",
       "      <td>CN</td>\n",
       "      <td>29.0</td>\n",
       "      <td>0.0</td>\n",
       "      <td>69.5</td>\n",
       "    </tr>\n",
       "    <tr>\n",
       "      <th>3005</th>\n",
       "      <td>sub-AIBL1520</td>\n",
       "      <td>ses-M00</td>\n",
       "      <td>CN</td>\n",
       "      <td>27.0</td>\n",
       "      <td>0.0</td>\n",
       "      <td>73.5</td>\n",
       "    </tr>\n",
       "  </tbody>\n",
       "</table>\n",
       "<p>3006 rows × 6 columns</p>\n",
       "</div>"
      ],
      "text/plain": [
       "        participant_id session_id diagnosis  mmse  cdr  age_rounded\n",
       "0     sub-ADNI133S0792    ses-M18       MCI  30.0  0.5         75.0\n",
       "1     sub-ADNI133S0792    ses-M00       MCI  30.0  0.5         73.5\n",
       "2     sub-ADNI133S0792    ses-M06       MCI  29.0  0.5         74.0\n",
       "3     sub-ADNI133S0792    ses-M12       MCI  29.0  0.5         74.5\n",
       "4     sub-ADNI133S0792    ses-M24       MCI  28.0  0.5         75.5\n",
       "...                ...        ...       ...   ...  ...          ...\n",
       "3001       sub-AIBL289    ses-M18        CN  29.0  0.0         63.0\n",
       "3002       sub-AIBL473    ses-M00       MCI  28.0  0.5         81.5\n",
       "3003      sub-AIBL1541    ses-M00        CN  29.0  0.0         72.5\n",
       "3004       sub-AIBL234    ses-M00        CN  29.0  0.0         69.5\n",
       "3005      sub-AIBL1520    ses-M00        CN  27.0  0.0         73.5\n",
       "\n",
       "[3006 rows x 6 columns]"
      ]
     },
     "execution_count": 13,
     "metadata": {},
     "output_type": "execute_result"
    }
   ],
   "source": [
    "# .tsv file load\n",
    "df = pd.read_csv('datasets/files/Train_diagnosis_ADNI_AIBL.tsv', sep = '\\t')\n",
    "df"
   ]
  },
  {
   "cell_type": "markdown",
   "id": "07534dde",
   "metadata": {},
   "source": [
    "# def Main()"
   ]
  },
  {
   "cell_type": "markdown",
   "id": "3f7d4730",
   "metadata": {},
   "source": [
    "### Set seeds"
   ]
  },
  {
   "cell_type": "code",
   "execution_count": 14,
   "id": "1de14ee3",
   "metadata": {},
   "outputs": [],
   "source": [
    "## Set seeds\n",
    "seed = 168\n",
    "torch.manual_seed(seed)\n",
    "if torch.cuda.device_count()>0:\n",
    "    torch.cuda.manual_seed(seed)"
   ]
  },
  {
   "cell_type": "code",
   "execution_count": 15,
   "id": "d9090e90",
   "metadata": {},
   "outputs": [],
   "source": [
    "#Load data\n",
    "dir_to_scans = cfg['data']['dir_to_scans']\n",
    "dir_to_tsv = cfg['data']['dir_to_tsv']"
   ]
  },
  {
   "cell_type": "code",
   "execution_count": 16,
   "id": "ddd026b6",
   "metadata": {},
   "outputs": [
    {
     "name": "stdout",
     "output_type": "stream",
     "text": [
      "/gpfs/data/razavianlab/data/mri/adni_pp_all/ADNI_processed/subjects \n",
      " ./datasets/files\n"
     ]
    }
   ],
   "source": [
    "print(dir_to_scans,'\\n',dir_to_tsv)"
   ]
  },
  {
   "cell_type": "code",
   "execution_count": 19,
   "id": "cd5b574d",
   "metadata": {},
   "outputs": [
    {
     "ename": "FileNotFoundError",
     "evalue": "[Errno 2] No such file or directory: './datasets/files/Train_diagnosis_ADNI_AIBL_NACC_65_85.tsv'",
     "output_type": "error",
     "traceback": [
      "\u001b[0;31m---------------------------------------------------------------------------\u001b[0m",
      "\u001b[0;31mFileNotFoundError\u001b[0m                         Traceback (most recent call last)",
      "\u001b[0;32m<ipython-input-19-e47355aaf01c>\u001b[0m in \u001b[0;36m<module>\u001b[0;34m\u001b[0m\n\u001b[1;32m      3\u001b[0m \u001b[0;32mif\u001b[0m \u001b[0mcfg\u001b[0m\u001b[0;34m[\u001b[0m\u001b[0;34m'data'\u001b[0m\u001b[0;34m]\u001b[0m\u001b[0;34m[\u001b[0m\u001b[0;34m'raw_data'\u001b[0m\u001b[0;34m]\u001b[0m\u001b[0;34m==\u001b[0m\u001b[0;32mFalse\u001b[0m\u001b[0;34m:\u001b[0m\u001b[0;34m\u001b[0m\u001b[0;34m\u001b[0m\u001b[0m\n\u001b[1;32m      4\u001b[0m     train_dataset = ADNI_3D(dir_to_scans, dir_to_tsv, mode = 'Train', n_label = cfg['model']['n_label'], \n\u001b[0;32m----> 5\u001b[0;31m                             percentage_usage=cfg['data']['percentage_usage'])\n\u001b[0m\u001b[1;32m      6\u001b[0m     \u001b[0mval_dataset\u001b[0m \u001b[0;34m=\u001b[0m \u001b[0mADNI_3D\u001b[0m\u001b[0;34m(\u001b[0m\u001b[0mdir_to_scans\u001b[0m\u001b[0;34m,\u001b[0m \u001b[0mdir_to_tsv\u001b[0m\u001b[0;34m,\u001b[0m \u001b[0mmode\u001b[0m \u001b[0;34m=\u001b[0m \u001b[0;34m'Val'\u001b[0m\u001b[0;34m,\u001b[0m \u001b[0mn_label\u001b[0m \u001b[0;34m=\u001b[0m \u001b[0mcfg\u001b[0m\u001b[0;34m[\u001b[0m\u001b[0;34m'model'\u001b[0m\u001b[0;34m]\u001b[0m\u001b[0;34m[\u001b[0m\u001b[0;34m'n_label'\u001b[0m\u001b[0;34m]\u001b[0m\u001b[0;34m)\u001b[0m\u001b[0;34m\u001b[0m\u001b[0;34m\u001b[0m\u001b[0m\n\u001b[1;32m      7\u001b[0m \u001b[0;34m\u001b[0m\u001b[0m\n",
      "\u001b[0;32m~/AD_Heewon/AD/DeepDementia/src/datasets/adni_3d.py\u001b[0m in \u001b[0;36m__init__\u001b[0;34m(self, dir_to_scans, dir_to_tsv, mode, use_mask, mask_type, n_label, percentage_usage)\u001b[0m\n\u001b[1;32m     35\u001b[0m             subject_tsv = pd.io.parsers.read_csv(os.path.join(dir_to_tsv,\n\u001b[1;32m     36\u001b[0m                 \u001b[0;31m#'Scan_info_NACC_SixMonth.tsv'), sep='\\t')\u001b[0m\u001b[0;34m\u001b[0m\u001b[0;34m\u001b[0m\u001b[0;34m\u001b[0m\u001b[0m\n\u001b[0;32m---> 37\u001b[0;31m                 mode+'_diagnosis_ADNI_AIBL_NACC_65_85.tsv'), sep='\\t')\n\u001b[0m\u001b[1;32m     38\u001b[0m             '''\n\u001b[1;32m     39\u001b[0m             subject_tsv_OASIS = pd.io.parsers.read_csv(os.path.join(dir_to_tsv,\n",
      "\u001b[0;32m~/anaconda3/envs/AD_Heewon/lib/python3.7/site-packages/pandas/io/parsers.py\u001b[0m in \u001b[0;36mread_csv\u001b[0;34m(filepath_or_buffer, sep, delimiter, header, names, index_col, usecols, squeeze, prefix, mangle_dupe_cols, dtype, engine, converters, true_values, false_values, skipinitialspace, skiprows, skipfooter, nrows, na_values, keep_default_na, na_filter, verbose, skip_blank_lines, parse_dates, infer_datetime_format, keep_date_col, date_parser, dayfirst, cache_dates, iterator, chunksize, compression, thousands, decimal, lineterminator, quotechar, quoting, doublequote, escapechar, comment, encoding, dialect, error_bad_lines, warn_bad_lines, delim_whitespace, low_memory, memory_map, float_precision, storage_options)\u001b[0m\n\u001b[1;32m    608\u001b[0m     \u001b[0mkwds\u001b[0m\u001b[0;34m.\u001b[0m\u001b[0mupdate\u001b[0m\u001b[0;34m(\u001b[0m\u001b[0mkwds_defaults\u001b[0m\u001b[0;34m)\u001b[0m\u001b[0;34m\u001b[0m\u001b[0;34m\u001b[0m\u001b[0m\n\u001b[1;32m    609\u001b[0m \u001b[0;34m\u001b[0m\u001b[0m\n\u001b[0;32m--> 610\u001b[0;31m     \u001b[0;32mreturn\u001b[0m \u001b[0m_read\u001b[0m\u001b[0;34m(\u001b[0m\u001b[0mfilepath_or_buffer\u001b[0m\u001b[0;34m,\u001b[0m \u001b[0mkwds\u001b[0m\u001b[0;34m)\u001b[0m\u001b[0;34m\u001b[0m\u001b[0;34m\u001b[0m\u001b[0m\n\u001b[0m\u001b[1;32m    611\u001b[0m \u001b[0;34m\u001b[0m\u001b[0m\n\u001b[1;32m    612\u001b[0m \u001b[0;34m\u001b[0m\u001b[0m\n",
      "\u001b[0;32m~/anaconda3/envs/AD_Heewon/lib/python3.7/site-packages/pandas/io/parsers.py\u001b[0m in \u001b[0;36m_read\u001b[0;34m(filepath_or_buffer, kwds)\u001b[0m\n\u001b[1;32m    460\u001b[0m \u001b[0;34m\u001b[0m\u001b[0m\n\u001b[1;32m    461\u001b[0m     \u001b[0;31m# Create the parser.\u001b[0m\u001b[0;34m\u001b[0m\u001b[0;34m\u001b[0m\u001b[0;34m\u001b[0m\u001b[0m\n\u001b[0;32m--> 462\u001b[0;31m     \u001b[0mparser\u001b[0m \u001b[0;34m=\u001b[0m \u001b[0mTextFileReader\u001b[0m\u001b[0;34m(\u001b[0m\u001b[0mfilepath_or_buffer\u001b[0m\u001b[0;34m,\u001b[0m \u001b[0;34m**\u001b[0m\u001b[0mkwds\u001b[0m\u001b[0;34m)\u001b[0m\u001b[0;34m\u001b[0m\u001b[0;34m\u001b[0m\u001b[0m\n\u001b[0m\u001b[1;32m    463\u001b[0m \u001b[0;34m\u001b[0m\u001b[0m\n\u001b[1;32m    464\u001b[0m     \u001b[0;32mif\u001b[0m \u001b[0mchunksize\u001b[0m \u001b[0;32mor\u001b[0m \u001b[0miterator\u001b[0m\u001b[0;34m:\u001b[0m\u001b[0;34m\u001b[0m\u001b[0;34m\u001b[0m\u001b[0m\n",
      "\u001b[0;32m~/anaconda3/envs/AD_Heewon/lib/python3.7/site-packages/pandas/io/parsers.py\u001b[0m in \u001b[0;36m__init__\u001b[0;34m(self, f, engine, **kwds)\u001b[0m\n\u001b[1;32m    817\u001b[0m             \u001b[0mself\u001b[0m\u001b[0;34m.\u001b[0m\u001b[0moptions\u001b[0m\u001b[0;34m[\u001b[0m\u001b[0;34m\"has_index_names\"\u001b[0m\u001b[0;34m]\u001b[0m \u001b[0;34m=\u001b[0m \u001b[0mkwds\u001b[0m\u001b[0;34m[\u001b[0m\u001b[0;34m\"has_index_names\"\u001b[0m\u001b[0;34m]\u001b[0m\u001b[0;34m\u001b[0m\u001b[0;34m\u001b[0m\u001b[0m\n\u001b[1;32m    818\u001b[0m \u001b[0;34m\u001b[0m\u001b[0m\n\u001b[0;32m--> 819\u001b[0;31m         \u001b[0mself\u001b[0m\u001b[0;34m.\u001b[0m\u001b[0m_engine\u001b[0m \u001b[0;34m=\u001b[0m \u001b[0mself\u001b[0m\u001b[0;34m.\u001b[0m\u001b[0m_make_engine\u001b[0m\u001b[0;34m(\u001b[0m\u001b[0mself\u001b[0m\u001b[0;34m.\u001b[0m\u001b[0mengine\u001b[0m\u001b[0;34m)\u001b[0m\u001b[0;34m\u001b[0m\u001b[0;34m\u001b[0m\u001b[0m\n\u001b[0m\u001b[1;32m    820\u001b[0m \u001b[0;34m\u001b[0m\u001b[0m\n\u001b[1;32m    821\u001b[0m     \u001b[0;32mdef\u001b[0m \u001b[0mclose\u001b[0m\u001b[0;34m(\u001b[0m\u001b[0mself\u001b[0m\u001b[0;34m)\u001b[0m\u001b[0;34m:\u001b[0m\u001b[0;34m\u001b[0m\u001b[0;34m\u001b[0m\u001b[0m\n",
      "\u001b[0;32m~/anaconda3/envs/AD_Heewon/lib/python3.7/site-packages/pandas/io/parsers.py\u001b[0m in \u001b[0;36m_make_engine\u001b[0;34m(self, engine)\u001b[0m\n\u001b[1;32m   1048\u001b[0m             )\n\u001b[1;32m   1049\u001b[0m         \u001b[0;31m# error: Too many arguments for \"ParserBase\"\u001b[0m\u001b[0;34m\u001b[0m\u001b[0;34m\u001b[0m\u001b[0;34m\u001b[0m\u001b[0m\n\u001b[0;32m-> 1050\u001b[0;31m         \u001b[0;32mreturn\u001b[0m \u001b[0mmapping\u001b[0m\u001b[0;34m[\u001b[0m\u001b[0mengine\u001b[0m\u001b[0;34m]\u001b[0m\u001b[0;34m(\u001b[0m\u001b[0mself\u001b[0m\u001b[0;34m.\u001b[0m\u001b[0mf\u001b[0m\u001b[0;34m,\u001b[0m \u001b[0;34m**\u001b[0m\u001b[0mself\u001b[0m\u001b[0;34m.\u001b[0m\u001b[0moptions\u001b[0m\u001b[0;34m)\u001b[0m  \u001b[0;31m# type: ignore[call-arg]\u001b[0m\u001b[0;34m\u001b[0m\u001b[0;34m\u001b[0m\u001b[0m\n\u001b[0m\u001b[1;32m   1051\u001b[0m \u001b[0;34m\u001b[0m\u001b[0m\n\u001b[1;32m   1052\u001b[0m     \u001b[0;32mdef\u001b[0m \u001b[0m_failover_to_python\u001b[0m\u001b[0;34m(\u001b[0m\u001b[0mself\u001b[0m\u001b[0;34m)\u001b[0m\u001b[0;34m:\u001b[0m\u001b[0;34m\u001b[0m\u001b[0;34m\u001b[0m\u001b[0m\n",
      "\u001b[0;32m~/anaconda3/envs/AD_Heewon/lib/python3.7/site-packages/pandas/io/parsers.py\u001b[0m in \u001b[0;36m__init__\u001b[0;34m(self, src, **kwds)\u001b[0m\n\u001b[1;32m   1865\u001b[0m \u001b[0;34m\u001b[0m\u001b[0m\n\u001b[1;32m   1866\u001b[0m         \u001b[0;31m# open handles\u001b[0m\u001b[0;34m\u001b[0m\u001b[0;34m\u001b[0m\u001b[0;34m\u001b[0m\u001b[0m\n\u001b[0;32m-> 1867\u001b[0;31m         \u001b[0mself\u001b[0m\u001b[0;34m.\u001b[0m\u001b[0m_open_handles\u001b[0m\u001b[0;34m(\u001b[0m\u001b[0msrc\u001b[0m\u001b[0;34m,\u001b[0m \u001b[0mkwds\u001b[0m\u001b[0;34m)\u001b[0m\u001b[0;34m\u001b[0m\u001b[0;34m\u001b[0m\u001b[0m\n\u001b[0m\u001b[1;32m   1868\u001b[0m         \u001b[0;32massert\u001b[0m \u001b[0mself\u001b[0m\u001b[0;34m.\u001b[0m\u001b[0mhandles\u001b[0m \u001b[0;32mis\u001b[0m \u001b[0;32mnot\u001b[0m \u001b[0;32mNone\u001b[0m\u001b[0;34m\u001b[0m\u001b[0;34m\u001b[0m\u001b[0m\n\u001b[1;32m   1869\u001b[0m         \u001b[0;32mfor\u001b[0m \u001b[0mkey\u001b[0m \u001b[0;32min\u001b[0m \u001b[0;34m(\u001b[0m\u001b[0;34m\"storage_options\"\u001b[0m\u001b[0;34m,\u001b[0m \u001b[0;34m\"encoding\"\u001b[0m\u001b[0;34m,\u001b[0m \u001b[0;34m\"memory_map\"\u001b[0m\u001b[0;34m,\u001b[0m \u001b[0;34m\"compression\"\u001b[0m\u001b[0;34m)\u001b[0m\u001b[0;34m:\u001b[0m\u001b[0;34m\u001b[0m\u001b[0;34m\u001b[0m\u001b[0m\n",
      "\u001b[0;32m~/anaconda3/envs/AD_Heewon/lib/python3.7/site-packages/pandas/io/parsers.py\u001b[0m in \u001b[0;36m_open_handles\u001b[0;34m(self, src, kwds)\u001b[0m\n\u001b[1;32m   1366\u001b[0m             \u001b[0mcompression\u001b[0m\u001b[0;34m=\u001b[0m\u001b[0mkwds\u001b[0m\u001b[0;34m.\u001b[0m\u001b[0mget\u001b[0m\u001b[0;34m(\u001b[0m\u001b[0;34m\"compression\"\u001b[0m\u001b[0;34m,\u001b[0m \u001b[0;32mNone\u001b[0m\u001b[0;34m)\u001b[0m\u001b[0;34m,\u001b[0m\u001b[0;34m\u001b[0m\u001b[0;34m\u001b[0m\u001b[0m\n\u001b[1;32m   1367\u001b[0m             \u001b[0mmemory_map\u001b[0m\u001b[0;34m=\u001b[0m\u001b[0mkwds\u001b[0m\u001b[0;34m.\u001b[0m\u001b[0mget\u001b[0m\u001b[0;34m(\u001b[0m\u001b[0;34m\"memory_map\"\u001b[0m\u001b[0;34m,\u001b[0m \u001b[0;32mFalse\u001b[0m\u001b[0;34m)\u001b[0m\u001b[0;34m,\u001b[0m\u001b[0;34m\u001b[0m\u001b[0;34m\u001b[0m\u001b[0m\n\u001b[0;32m-> 1368\u001b[0;31m             \u001b[0mstorage_options\u001b[0m\u001b[0;34m=\u001b[0m\u001b[0mkwds\u001b[0m\u001b[0;34m.\u001b[0m\u001b[0mget\u001b[0m\u001b[0;34m(\u001b[0m\u001b[0;34m\"storage_options\"\u001b[0m\u001b[0;34m,\u001b[0m \u001b[0;32mNone\u001b[0m\u001b[0;34m)\u001b[0m\u001b[0;34m,\u001b[0m\u001b[0;34m\u001b[0m\u001b[0;34m\u001b[0m\u001b[0m\n\u001b[0m\u001b[1;32m   1369\u001b[0m         )\n\u001b[1;32m   1370\u001b[0m \u001b[0;34m\u001b[0m\u001b[0m\n",
      "\u001b[0;32m~/anaconda3/envs/AD_Heewon/lib/python3.7/site-packages/pandas/io/common.py\u001b[0m in \u001b[0;36mget_handle\u001b[0;34m(path_or_buf, mode, encoding, compression, memory_map, is_text, errors, storage_options)\u001b[0m\n\u001b[1;32m    645\u001b[0m                 \u001b[0mencoding\u001b[0m\u001b[0;34m=\u001b[0m\u001b[0mioargs\u001b[0m\u001b[0;34m.\u001b[0m\u001b[0mencoding\u001b[0m\u001b[0;34m,\u001b[0m\u001b[0;34m\u001b[0m\u001b[0;34m\u001b[0m\u001b[0m\n\u001b[1;32m    646\u001b[0m                 \u001b[0merrors\u001b[0m\u001b[0;34m=\u001b[0m\u001b[0merrors\u001b[0m\u001b[0;34m,\u001b[0m\u001b[0;34m\u001b[0m\u001b[0;34m\u001b[0m\u001b[0m\n\u001b[0;32m--> 647\u001b[0;31m                 \u001b[0mnewline\u001b[0m\u001b[0;34m=\u001b[0m\u001b[0;34m\"\"\u001b[0m\u001b[0;34m,\u001b[0m\u001b[0;34m\u001b[0m\u001b[0;34m\u001b[0m\u001b[0m\n\u001b[0m\u001b[1;32m    648\u001b[0m             )\n\u001b[1;32m    649\u001b[0m         \u001b[0;32melse\u001b[0m\u001b[0;34m:\u001b[0m\u001b[0;34m\u001b[0m\u001b[0;34m\u001b[0m\u001b[0m\n",
      "\u001b[0;31mFileNotFoundError\u001b[0m: [Errno 2] No such file or directory: './datasets/files/Train_diagnosis_ADNI_AIBL_NACC_65_85.tsv'"
     ]
    }
   ],
   "source": [
    "from datasets.adni_3d import ADNI_3D\n",
    "\n",
    "if cfg['data']['raw_data']==False:\n",
    "    train_dataset = ADNI_3D(dir_to_scans, dir_to_tsv, mode = 'Train', n_label = cfg['model']['n_label'], \n",
    "                            percentage_usage=cfg['data']['percentage_usage'])\n",
    "    val_dataset = ADNI_3D(dir_to_scans, dir_to_tsv, mode = 'Val', n_label = cfg['model']['n_label'])\n",
    "    \n",
    "#else:\n",
    "#    train_dataset = ADNI_3D_raw(dir_to_scans, dir_to_tsv, mode = 'Train', n_label = cfg['model']['n_label'], \n",
    "#                                percentage_usage=cfg['data']['percentage_usage'])\n",
    "#    val_dataset = ADNI_3D_raw(dir_to_scans, dir_to_tsv, mode = 'Val', n_label = cfg['model']['n_label'])"
   ]
  },
  {
   "cell_type": "code",
   "execution_count": 20,
   "id": "bf3833a9",
   "metadata": {},
   "outputs": [
    {
     "ename": "NameError",
     "evalue": "name 'train_dataset' is not defined",
     "output_type": "error",
     "traceback": [
      "\u001b[0;31m---------------------------------------------------------------------------\u001b[0m",
      "\u001b[0;31mNameError\u001b[0m                                 Traceback (most recent call last)",
      "\u001b[0;32m<ipython-input-20-7e2a5ca31ce9>\u001b[0m in \u001b[0;36m<module>\u001b[0;34m\u001b[0m\n\u001b[1;32m      1\u001b[0m train_loader = torch.utils.data.DataLoader(\n\u001b[0;32m----> 2\u001b[0;31m     \u001b[0mtrain_dataset\u001b[0m\u001b[0;34m,\u001b[0m \u001b[0mbatch_size\u001b[0m\u001b[0;34m=\u001b[0m\u001b[0mcfg\u001b[0m\u001b[0;34m[\u001b[0m\u001b[0;34m'data'\u001b[0m\u001b[0;34m]\u001b[0m\u001b[0;34m[\u001b[0m\u001b[0;34m'batch_size'\u001b[0m\u001b[0;34m]\u001b[0m\u001b[0;34m,\u001b[0m \u001b[0mshuffle\u001b[0m\u001b[0;34m=\u001b[0m\u001b[0;32mTrue\u001b[0m\u001b[0;34m,\u001b[0m\u001b[0;34m\u001b[0m\u001b[0;34m\u001b[0m\u001b[0m\n\u001b[0m\u001b[1;32m      3\u001b[0m     num_workers=cfg['data']['workers'], pin_memory=True, drop_last=True)\n\u001b[1;32m      4\u001b[0m \u001b[0;34m\u001b[0m\u001b[0m\n\u001b[1;32m      5\u001b[0m val_loader = torch.utils.data.DataLoader(\n",
      "\u001b[0;31mNameError\u001b[0m: name 'train_dataset' is not defined"
     ]
    }
   ],
   "source": [
    "train_loader = torch.utils.data.DataLoader(\n",
    "    train_dataset, batch_size=cfg['data']['batch_size'], shuffle=True,\n",
    "    num_workers=cfg['data']['workers'], pin_memory=True, drop_last=True)\n",
    "\n",
    "val_loader = torch.utils.data.DataLoader(\n",
    "    val_dataset, batch_size=cfg['data']['val_batch_size'], shuffle=False,\n",
    "    num_workers=cfg['data']['workers'], pin_memory=True)\n",
    "\n",
    "ndata = len(train_dataset.subject_id)\n",
    "print('In total ', str(ndata), ' patients in training set')"
   ]
  },
  {
   "cell_type": "markdown",
   "id": "017e67a9",
   "metadata": {},
   "source": [
    "## class ADNI_3D(data.Dataset)"
   ]
  },
  {
   "cell_type": "markdown",
   "id": "b05fe787",
   "metadata": {},
   "source": [
    "#### 1) def \\_init\\_ (self, dir_to_scans, dir_to_tsv, mode = 'Train', use_mask = None, mask_type = 'graymatter', n_label = 3, percentage_usage = 1.0)"
   ]
  },
  {
   "cell_type": "code",
   "execution_count": 21,
   "id": "44b448f4",
   "metadata": {},
   "outputs": [
    {
     "data": {
      "text/html": [
       "<div>\n",
       "<style scoped>\n",
       "    .dataframe tbody tr th:only-of-type {\n",
       "        vertical-align: middle;\n",
       "    }\n",
       "\n",
       "    .dataframe tbody tr th {\n",
       "        vertical-align: top;\n",
       "    }\n",
       "\n",
       "    .dataframe thead th {\n",
       "        text-align: right;\n",
       "    }\n",
       "</style>\n",
       "<table border=\"1\" class=\"dataframe\">\n",
       "  <thead>\n",
       "    <tr style=\"text-align: right;\">\n",
       "      <th></th>\n",
       "      <th>participant_id</th>\n",
       "      <th>session_id</th>\n",
       "      <th>diagnosis</th>\n",
       "      <th>mmse</th>\n",
       "      <th>cdr</th>\n",
       "      <th>cdr_sb</th>\n",
       "      <th>age</th>\n",
       "      <th>examination_date</th>\n",
       "      <th>earliest_time</th>\n",
       "      <th>age_rounded</th>\n",
       "    </tr>\n",
       "  </thead>\n",
       "  <tbody>\n",
       "    <tr>\n",
       "      <th>0</th>\n",
       "      <td>sub-ADNI133S0792</td>\n",
       "      <td>ses-M18</td>\n",
       "      <td>MCI</td>\n",
       "      <td>30.0</td>\n",
       "      <td>0.5</td>\n",
       "      <td>0.5</td>\n",
       "      <td>74.975702</td>\n",
       "      <td>2008-03-17</td>\n",
       "      <td>2006-09-25</td>\n",
       "      <td>75.0</td>\n",
       "    </tr>\n",
       "    <tr>\n",
       "      <th>1</th>\n",
       "      <td>sub-ADNI133S0792</td>\n",
       "      <td>ses-M00</td>\n",
       "      <td>MCI</td>\n",
       "      <td>30.0</td>\n",
       "      <td>0.5</td>\n",
       "      <td>1.0</td>\n",
       "      <td>73.500000</td>\n",
       "      <td>2006-09-25</td>\n",
       "      <td>2006-09-25</td>\n",
       "      <td>73.5</td>\n",
       "    </tr>\n",
       "    <tr>\n",
       "      <th>2</th>\n",
       "      <td>sub-ADNI133S0792</td>\n",
       "      <td>ses-M06</td>\n",
       "      <td>MCI</td>\n",
       "      <td>29.0</td>\n",
       "      <td>0.5</td>\n",
       "      <td>0.5</td>\n",
       "      <td>73.984600</td>\n",
       "      <td>2007-03-21</td>\n",
       "      <td>2006-09-25</td>\n",
       "      <td>74.0</td>\n",
       "    </tr>\n",
       "    <tr>\n",
       "      <th>3</th>\n",
       "      <td>sub-ADNI133S0792</td>\n",
       "      <td>ses-M12</td>\n",
       "      <td>MCI</td>\n",
       "      <td>29.0</td>\n",
       "      <td>0.5</td>\n",
       "      <td>0.5</td>\n",
       "      <td>74.499316</td>\n",
       "      <td>2007-09-25</td>\n",
       "      <td>2006-09-25</td>\n",
       "      <td>74.5</td>\n",
       "    </tr>\n",
       "    <tr>\n",
       "      <th>4</th>\n",
       "      <td>sub-ADNI133S0792</td>\n",
       "      <td>ses-M24</td>\n",
       "      <td>MCI</td>\n",
       "      <td>28.0</td>\n",
       "      <td>0.5</td>\n",
       "      <td>1.0</td>\n",
       "      <td>75.482204</td>\n",
       "      <td>2008-09-18</td>\n",
       "      <td>2006-09-25</td>\n",
       "      <td>75.5</td>\n",
       "    </tr>\n",
       "    <tr>\n",
       "      <th>...</th>\n",
       "      <td>...</td>\n",
       "      <td>...</td>\n",
       "      <td>...</td>\n",
       "      <td>...</td>\n",
       "      <td>...</td>\n",
       "      <td>...</td>\n",
       "      <td>...</td>\n",
       "      <td>...</td>\n",
       "      <td>...</td>\n",
       "      <td>...</td>\n",
       "    </tr>\n",
       "    <tr>\n",
       "      <th>1934</th>\n",
       "      <td>sub-ADNI036S0656</td>\n",
       "      <td>ses-M24</td>\n",
       "      <td>MCI</td>\n",
       "      <td>23.0</td>\n",
       "      <td>0.5</td>\n",
       "      <td>2.0</td>\n",
       "      <td>84.526010</td>\n",
       "      <td>2008-08-05</td>\n",
       "      <td>2006-07-27</td>\n",
       "      <td>84.5</td>\n",
       "    </tr>\n",
       "    <tr>\n",
       "      <th>1935</th>\n",
       "      <td>sub-ADNI036S0656</td>\n",
       "      <td>ses-M36</td>\n",
       "      <td>MCI</td>\n",
       "      <td>22.0</td>\n",
       "      <td>0.5</td>\n",
       "      <td>2.0</td>\n",
       "      <td>85.489733</td>\n",
       "      <td>2009-07-23</td>\n",
       "      <td>2006-07-27</td>\n",
       "      <td>85.5</td>\n",
       "    </tr>\n",
       "    <tr>\n",
       "      <th>1936</th>\n",
       "      <td>sub-ADNI094S1397</td>\n",
       "      <td>ses-M00</td>\n",
       "      <td>AD</td>\n",
       "      <td>24.0</td>\n",
       "      <td>1.0</td>\n",
       "      <td>4.5</td>\n",
       "      <td>55.100000</td>\n",
       "      <td>2007-05-15</td>\n",
       "      <td>2007-05-15</td>\n",
       "      <td>55.0</td>\n",
       "    </tr>\n",
       "    <tr>\n",
       "      <th>1937</th>\n",
       "      <td>sub-ADNI094S1397</td>\n",
       "      <td>ses-M06</td>\n",
       "      <td>AD</td>\n",
       "      <td>22.0</td>\n",
       "      <td>1.0</td>\n",
       "      <td>4.5</td>\n",
       "      <td>55.598289</td>\n",
       "      <td>2007-11-13</td>\n",
       "      <td>2007-05-15</td>\n",
       "      <td>55.5</td>\n",
       "    </tr>\n",
       "    <tr>\n",
       "      <th>1938</th>\n",
       "      <td>sub-ADNI094S1397</td>\n",
       "      <td>ses-M12</td>\n",
       "      <td>AD</td>\n",
       "      <td>11.0</td>\n",
       "      <td>1.0</td>\n",
       "      <td>9.0</td>\n",
       "      <td>56.102053</td>\n",
       "      <td>2008-05-15</td>\n",
       "      <td>2007-05-15</td>\n",
       "      <td>56.0</td>\n",
       "    </tr>\n",
       "  </tbody>\n",
       "</table>\n",
       "<p>1939 rows × 10 columns</p>\n",
       "</div>"
      ],
      "text/plain": [
       "        participant_id session_id diagnosis  mmse  cdr  cdr_sb        age  \\\n",
       "0     sub-ADNI133S0792    ses-M18       MCI  30.0  0.5     0.5  74.975702   \n",
       "1     sub-ADNI133S0792    ses-M00       MCI  30.0  0.5     1.0  73.500000   \n",
       "2     sub-ADNI133S0792    ses-M06       MCI  29.0  0.5     0.5  73.984600   \n",
       "3     sub-ADNI133S0792    ses-M12       MCI  29.0  0.5     0.5  74.499316   \n",
       "4     sub-ADNI133S0792    ses-M24       MCI  28.0  0.5     1.0  75.482204   \n",
       "...                ...        ...       ...   ...  ...     ...        ...   \n",
       "1934  sub-ADNI036S0656    ses-M24       MCI  23.0  0.5     2.0  84.526010   \n",
       "1935  sub-ADNI036S0656    ses-M36       MCI  22.0  0.5     2.0  85.489733   \n",
       "1936  sub-ADNI094S1397    ses-M00        AD  24.0  1.0     4.5  55.100000   \n",
       "1937  sub-ADNI094S1397    ses-M06        AD  22.0  1.0     4.5  55.598289   \n",
       "1938  sub-ADNI094S1397    ses-M12        AD  11.0  1.0     9.0  56.102053   \n",
       "\n",
       "     examination_date earliest_time  age_rounded  \n",
       "0          2008-03-17    2006-09-25         75.0  \n",
       "1          2006-09-25    2006-09-25         73.5  \n",
       "2          2007-03-21    2006-09-25         74.0  \n",
       "3          2007-09-25    2006-09-25         74.5  \n",
       "4          2008-09-18    2006-09-25         75.5  \n",
       "...               ...           ...          ...  \n",
       "1934       2008-08-05    2006-07-27         84.5  \n",
       "1935       2009-07-23    2006-07-27         85.5  \n",
       "1936       2007-05-15    2007-05-15         55.0  \n",
       "1937       2007-11-13    2007-05-15         55.5  \n",
       "1938       2008-05-15    2007-05-15         56.0  \n",
       "\n",
       "[1939 rows x 10 columns]"
      ]
     },
     "execution_count": 21,
     "metadata": {},
     "output_type": "execute_result"
    }
   ],
   "source": [
    "# subject_tsv\n",
    "mode='Train'\n",
    "subject_tsv = pd.io.parsers.read_csv(os.path.join(dir_to_tsv,mode+'_diagnosis_ADNI.tsv'), sep='\\t')\n",
    "subject_tsv"
   ]
  },
  {
   "cell_type": "code",
   "execution_count": 93,
   "id": "ea40e677",
   "metadata": {},
   "outputs": [],
   "source": [
    "import torch.utils.data as data\n",
    "import numpy as np\n",
    "\n",
    "class ADNI_3D(data.Dataset):\n",
    "\n",
    "    def __init__(self, dir_to_scans, dir_to_tsv, mode = 'Train', use_mask = None, mask_type = 'graymatter', n_label = 3, percentage_usage = 1.0):\n",
    "        if n_label == 3:\n",
    "            LABEL_MAPPING = [0.0, 0.5, 1.0, 2.0]\n",
    "        elif n_label == 2:\n",
    "            LABEL_MAPPING = [0.0, 0.5, 1.0]\n",
    "        self.LABEL_MAPPING = LABEL_MAPPING     \n",
    "        if mode == 'Train':\n",
    "            subject_tsv = pd.io.parsers.read_csv(os.path.join(dir_to_tsv,\n",
    "                #'Scan_info_NACC_SixMonth.tsv'), sep='\\t') \n",
    "                mode+'_diagnosis_ADNI.tsv'), sep='\\t')\n",
    "            '''\n",
    "            subject_tsv_OASIS = pd.io.parsers.read_csv(os.path.join(dir_to_tsv,\n",
    "                'All_diagnosis_OASIS.tsv'), sep='\\t') \n",
    "            subject_tsv_AIBL = pd.io.parsers.read_csv(os.path.join(dir_to_tsv,\n",
    "                'All_diagnosis_AIBL.tsv'), sep='\\t') \n",
    "            subject_tsv = subject_tsv[['participant_id', 'session_id', 'diagnosis', 'mmse', 'cdr']].append(subject_tsv_OASIS[['participant_id',\n",
    "             'session_id', 'diagnosis', 'mmse', 'cdr']]).append(subject_tsv_AIBL[['participant_id', 'session_id', 'diagnosis', 'mmse', 'cdr']])\n",
    "             '''\n",
    "\n",
    "        else:\n",
    "            subject_tsv = pd.io.parsers.read_csv(os.path.join(dir_to_tsv,#'All_diagnosis_AIBL.tsv'), sep='\\t')\n",
    "                mode+'_diagnosis_ADNI.tsv'), sep='\\t') \n",
    "                #'All_diagnosis_NACC_SixMonth_volume.tsv'),sep='\\t')\n",
    "\n",
    "                #mode+'_diagnosis_ADNI_umass.tsv'), sep='\\t')\n",
    "\n",
    "        # Clean sessions without labels\n",
    "        indices_not_missing = []\n",
    "        for i in range(len(subject_tsv)):\n",
    "            if mode == 'Train':\n",
    "                if (subject_tsv.iloc[i].cdr in LABEL_MAPPING): #and not (np.isnan(subject_tsv.iloc[i].cdr)):\n",
    "                    indices_not_missing.append(i)\n",
    "            else:\n",
    "                if (subject_tsv.iloc[i].cdr in LABEL_MAPPING):\n",
    "                    indices_not_missing.append(i)\n",
    "\n",
    "        self.subject_tsv = subject_tsv.iloc[indices_not_missing]\n",
    "        if mode == 'Train':\n",
    "            self.subject_tsv = subject_tsv.iloc[np.random.permutation(int(len(subject_tsv)*percentage_usage))]\n",
    "        self.subject_id = np.unique(subject_tsv.participant_id.values)\n",
    "        self.index_dic = dict(zip(self.subject_id,range(len(self.subject_id))))\n",
    "        self.dir_to_scans = dir_to_scans\n",
    "\n",
    "        self.use_mask = use_mask\n",
    "        self.mask_type = mask_type\n",
    "        self.mode = mode\n",
    "        self.age_range = list(np.arange(0.0,120.0,0.5))\n",
    "\n",
    "    def __len__(self):\n",
    "        return len(self.subject_tsv)\n",
    "\n",
    "    def __getitem__(self, idx):\n",
    "        try:\n",
    "            if 'OAS' in self.subject_tsv.iloc[idx].participant_id:\n",
    "                path = os.path.join('/gpfs/data/razavianlab/skynet/alzheimers/OASIS/oasis3/OASIS3_processed/subjects/',self.subject_tsv.iloc[idx].participant_id,\n",
    "                    self.subject_tsv.iloc[idx].session_id,'t1/spm/segmentation/normalized_space')\n",
    "            elif 'AIBL' in self.subject_tsv.iloc[idx].participant_id:\n",
    "                path = os.path.join('/gpfs/data/razavianlab/data/mri/aibl_all/AIBL_processed/subjects/',self.subject_tsv.iloc[idx].participant_id,\n",
    "                    self.subject_tsv.iloc[idx].session_id,'t1/spm/segmentation/normalized_space')\n",
    "            elif 'NACC' in self.subject_tsv.iloc[idx].participant_id:\n",
    "                path = os.path.join('/gpfs/data/razavianlab/data/mri/nacc_pp_all/NACC_processed_new/subjects/',self.subject_tsv.iloc[idx].participant_id,\n",
    "                    self.subject_tsv.iloc[idx].session_id,'t1/spm/segmentation/normalized_space')\n",
    "            else:\n",
    "                path = os.path.join(self.dir_to_scans,self.subject_tsv.iloc[idx].participant_id,\n",
    "                    self.subject_tsv.iloc[idx].session_id,'t1/spm/segmentation/normalized_space')\n",
    "                path_mask = os.path.join('/gpfs/data/razavianlab/skynet/alzheimers/adni_pp_all/ADNI_seg/subjects/',self.subject_tsv.iloc[idx].participant_id,\n",
    "                    self.subject_tsv.iloc[idx].session_id)\n",
    "            all_segs = list(os.listdir(path))\n",
    "            if self.subject_tsv.iloc[idx].cdr == 0:\n",
    "                label = 0\n",
    "            elif self.subject_tsv.iloc[idx].cdr == 0.5:\n",
    "                label = 1\n",
    "            elif self.subject_tsv.iloc[idx].cdr > 0.5:\n",
    "                label = 2\n",
    "                # if self.LABEL_MAPPING == [\"CN\", \"AD\"]:\n",
    "                #     label = 1\n",
    "                # else:\n",
    "                #     label = 2\n",
    "            else:\n",
    "                print('WRONG LABEL VALUE!!!')\n",
    "                label = -100\n",
    "            try:\n",
    "                mmse = self.subject_tsv.iloc[idx].mmse\n",
    "            except:\n",
    "                mmse = 0\n",
    "            cdr_sub = 0#self.subject_tsv.iloc[idx].cdr #cdr_sb #cdr#\n",
    "            age = list(np.arange(0.0,120.0,0.5)).index(self.subject_tsv.iloc[idx].age_rounded) #list(np.arange(0.0,25.0)).index(self.subject_tsv.iloc[idx].education_level)#\n",
    "            age_ori = 0#self.subject_tsv.iloc[idx].age\n",
    "            #age = self.subject_tsv.iloc[idx].age\n",
    "            '''\n",
    "            cdr = self.subject_tsv.iloc[idx].cdr\n",
    "            if cdr == 0.0:\n",
    "                cdr_out = 0\n",
    "            elif cdr == 0.5:\n",
    "                cdr_out = 1\n",
    "            else:\n",
    "                cdr_out = 2\n",
    "            '''\n",
    "            idx_out = self.index_dic[self.subject_tsv.iloc[idx].participant_id]\n",
    "\n",
    "\n",
    "\n",
    "            for seg_name in all_segs:\n",
    "                if 'Space_T1w' in seg_name:\n",
    "                    image = nib.load(os.path.join(path,seg_name)).get_data().squeeze()\n",
    "                    image[np.isnan(image)] = 0.0\n",
    "                    image = (image - image.min())/(image.max() - image.min() + 1e-3)\n",
    "                    #image = (image - image.mean())/(image.std() + 1e-6)\n",
    "                    if self.mode == 'Train':\n",
    "                        image = self.augment_image(image)\n",
    "                    #image = translateit(image, [10,5,10], isseg=True)\n",
    "                    #intense_factor = np.random.uniform(0.9,1.1,1)[0]\n",
    "                    #image = intensifyit(image,intense_factor)\n",
    "                    #theta = np.random.uniform(-15,15,1)[0]\n",
    "                    #image = rotateit(image, (2,0), theta, isseg=False)\n",
    "\n",
    "                    #scale_factor = np.random.uniform(0.8,1.3,1)[0]\n",
    "                    #image = scaleit(image,scale_factor)\n",
    "                    #image = flipit(image)\n",
    "                    #theta = np.random.uniform(-140,140,1)[0]\n",
    "                    #image = rotateit(image, (1,0), theta, isseg=False)\n",
    "\n",
    "            #for seg_name in all_segs:\n",
    "                #if self.mask_type in seg_name:\n",
    "                #    brain_mask = nib.load(os.path.join(path,seg_name)).get_data().squeeze()\n",
    "            if self.use_mask:\n",
    "                #image *= brain_mask\n",
    "                path_mask += '/'+str(self.subject_tsv.iloc[idx].participant_id) +'_'+ str(self.subject_tsv.iloc[idx].session_id)+'_seg.p'\n",
    "                brain_mask = self.unpickling(path_mask)\n",
    "\n",
    "                image = np.stack([image,brain_mask], axis=0)\n",
    "            else:\n",
    "                image = np.expand_dims(image,axis =0)\n",
    "            mask_id = 58#random.randint(56,61)\n",
    "            #image = image[5:-6,10:-10,0:-11]\n",
    "            if self.mode == 'Train':\n",
    "                image = self.randomCrop(image,96,96,96)\n",
    "            else:\n",
    "                image = self.centerCrop(image,96,96,96)\n",
    "\n",
    "\n",
    "\n",
    "\n",
    "        except Exception as e:\n",
    "                print(f\"Failed to load #{idx}: {path}\")\n",
    "                print(f\"Errors encountered: {e}\")\n",
    "                print(traceback.format_exc())\n",
    "                return None,None,None,None\n",
    "        return image.astype(np.float32),label, idx, idx, mmse,cdr_sub,age"
   ]
  },
  {
   "cell_type": "code",
   "execution_count": 94,
   "id": "11c84578",
   "metadata": {},
   "outputs": [],
   "source": [
    "if cfg['data']['raw_data']==False:\n",
    "    train_dataset = ADNI_3D(dir_to_scans, dir_to_tsv, mode = 'Train', n_label = cfg['model']['n_label'], \n",
    "                            percentage_usage=cfg['data']['percentage_usage'])\n",
    "    val_dataset = ADNI_3D(dir_to_scans, dir_to_tsv, mode = 'Val', n_label = cfg['model']['n_label'])\n",
    "    \n",
    "#else:\n",
    "#    train_dataset = ADNI_3D_raw(dir_to_scans, dir_to_tsv, mode = 'Train', n_label = cfg['model']['n_label'], \n",
    "#                                percentage_usage=cfg['data']['percentage_usage'])\n",
    "#    val_dataset = ADNI_3D_raw(dir_to_scans, dir_to_tsv, mode = 'Val', n_label = cfg['model']['n_label'])"
   ]
  },
  {
   "cell_type": "code",
   "execution_count": 95,
   "id": "eb9429a1",
   "metadata": {},
   "outputs": [
    {
     "name": "stdout",
     "output_type": "stream",
     "text": [
      "In total  463  patients in training set\n"
     ]
    }
   ],
   "source": [
    "train_loader = torch.utils.data.DataLoader(\n",
    "    train_dataset, batch_size=cfg['data']['batch_size'], shuffle=True,\n",
    "    num_workers=cfg['data']['workers'], pin_memory=True, drop_last=True)\n",
    "\n",
    "val_loader = torch.utils.data.DataLoader(\n",
    "    val_dataset, batch_size=cfg['data']['val_batch_size'], shuffle=False,\n",
    "    num_workers=cfg['data']['workers'], pin_memory=True)\n",
    "\n",
    "ndata = len(train_dataset.subject_id)\n",
    "print('In total ', str(ndata), ' patients in training set')"
   ]
  },
  {
   "cell_type": "code",
   "execution_count": 100,
   "id": "7dd7bc9e",
   "metadata": {},
   "outputs": [
    {
     "name": "stdout",
     "output_type": "stream",
     "text": [
      "Failed to load #1912: /gpfs/data/razavianlab/data/mri/adni_pp_all/ADNI_processed/subjects/sub-ADNI130S0102/ses-M00/t1/spm/segmentation/normalized_spaceFailed to load #1349: /gpfs/data/razavianlab/data/mri/adni_pp_all/ADNI_processed/subjects/sub-ADNI002S1280/ses-M00/t1/spm/segmentation/normalized_spaceFailed to load #626: /gpfs/data/razavianlab/data/mri/adni_pp_all/ADNI_processed/subjects/sub-ADNI053S0621/ses-M00/t1/spm/segmentation/normalized_space\n"
     ]
    }
   ],
   "source": [
    "next(iter(train_loader))"
   ]
  },
  {
   "cell_type": "markdown",
   "id": "7eddc174",
   "metadata": {},
   "source": [
    "#### Data 시각화"
   ]
  },
  {
   "cell_type": "code",
   "execution_count": 96,
   "id": "057fad51",
   "metadata": {},
   "outputs": [
    {
     "name": "stdout",
     "output_type": "stream",
     "text": [
      "Failed to load #946: /gpfs/data/razavianlab/data/mri/adni_pp_all/ADNI_processed/subjects/sub-ADNI041S0262/ses-M12/t1/spm/segmentation/normalized_spaceFailed to load #813: /gpfs/data/razavianlab/data/mri/adni_pp_all/ADNI_processed/subjects/sub-ADNI007S0070/ses-M00/t1/spm/segmentation/normalized_spaceFailed to load #1312: /gpfs/data/razavianlab/data/mri/adni_pp_all/ADNI_processed/subjects/sub-ADNI023S1247/ses-M00/t1/spm/segmentation/normalized_space\n",
      "Failed to load #608: /gpfs/data/razavianlab/data/mri/adni_pp_all/ADNI_processed/subjects/sub-ADNI002S0782/ses-M12/t1/spm/segmentation/normalized_space\n",
      "Errors encountered: [Errno 2] No such file or directory: '/gpfs/data/razavianlab/data/mri/adni_pp_all/ADNI_processed/subjects/sub-ADNI041S0262/ses-M12/t1/spm/segmentation/normalized_space'\n",
      "\n",
      "\n",
      "Errors encountered: [Errno 2] No such file or directory: '/gpfs/data/razavianlab/data/mri/adni_pp_all/ADNI_processed/subjects/sub-ADNI023S1247/ses-M00/t1/spm/segmentation/normalized_space'\n",
      "Errors encountered: [Errno 2] No such file or directory: '/gpfs/data/razavianlab/data/mri/adni_pp_all/ADNI_processed/subjects/sub-ADNI007S0070/ses-M00/t1/spm/segmentation/normalized_space'Errors encountered: [Errno 2] No such file or directory: '/gpfs/data/razavianlab/data/mri/adni_pp_all/ADNI_processed/subjects/sub-ADNI002S0782/ses-M12/t1/spm/segmentation/normalized_space'\n",
      "\n",
      "Failed to load #681: /gpfs/data/razavianlab/data/mri/adni_pp_all/ADNI_processed/subjects/sub-ADNI027S0417/ses-M00/t1/spm/segmentation/normalized_spaceFailed to load #1412: /gpfs/data/razavianlab/data/mri/adni_pp_all/ADNI_processed/subjects/sub-ADNI022S0130/ses-M24/t1/spm/segmentation/normalized_spaceFailed to load #1573: /gpfs/data/razavianlab/data/mri/adni_pp_all/ADNI_processed/subjects/sub-ADNI002S1268/ses-M36/t1/spm/segmentation/normalized_space\n",
      "\n",
      "\n",
      "Errors encountered: [Errno 2] No such file or directory: '/gpfs/data/razavianlab/data/mri/adni_pp_all/ADNI_processed/subjects/sub-ADNI022S0130/ses-M24/t1/spm/segmentation/normalized_space'Errors encountered: [Errno 2] No such file or directory: '/gpfs/data/razavianlab/data/mri/adni_pp_all/ADNI_processed/subjects/sub-ADNI002S1268/ses-M36/t1/spm/segmentation/normalized_space'\n",
      "\n",
      "Failed to load #137: /gpfs/data/razavianlab/data/mri/adni_pp_all/ADNI_processed/subjects/sub-ADNI013S0240/ses-M12/t1/spm/segmentation/normalized_spaceErrors encountered: [Errno 2] No such file or directory: '/gpfs/data/razavianlab/data/mri/adni_pp_all/ADNI_processed/subjects/sub-ADNI027S0417/ses-M00/t1/spm/segmentation/normalized_space'\n",
      "\n",
      "Errors encountered: [Errno 2] No such file or directory: '/gpfs/data/razavianlab/data/mri/adni_pp_all/ADNI_processed/subjects/sub-ADNI013S0240/ses-M12/t1/spm/segmentation/normalized_space'\n",
      "Failed to load #545: /gpfs/data/razavianlab/data/mri/adni_pp_all/ADNI_processed/subjects/sub-ADNI029S0866/ses-M06/t1/spm/segmentation/normalized_space\n",
      "Errors encountered: [Errno 2] No such file or directory: '/gpfs/data/razavianlab/data/mri/adni_pp_all/ADNI_processed/subjects/sub-ADNI029S0866/ses-M06/t1/spm/segmentation/normalized_space'\n"
     ]
    },
    {
     "ename": "NameError",
     "evalue": "Caught NameError in DataLoader worker process 0.\nOriginal Traceback (most recent call last):\n  File \"<ipython-input-93-184edbcc4706>\", line 73, in __getitem__\n    all_segs = list(os.listdir(path))\nFileNotFoundError: [Errno 2] No such file or directory: '/gpfs/data/razavianlab/data/mri/adni_pp_all/ADNI_processed/subjects/sub-ADNI041S0262/ses-M12/t1/spm/segmentation/normalized_space'\n\nDuring handling of the above exception, another exception occurred:\n\nTraceback (most recent call last):\n  File \"/home/ubuntu/anaconda3/envs/AD_Heewon/lib/python3.7/site-packages/torch/utils/data/_utils/worker.py\", line 287, in _worker_loop\n    data = fetcher.fetch(index)\n  File \"/home/ubuntu/anaconda3/envs/AD_Heewon/lib/python3.7/site-packages/torch/utils/data/_utils/fetch.py\", line 49, in fetch\n    data = [self.dataset[idx] for idx in possibly_batched_index]\n  File \"/home/ubuntu/anaconda3/envs/AD_Heewon/lib/python3.7/site-packages/torch/utils/data/_utils/fetch.py\", line 49, in <listcomp>\n    data = [self.dataset[idx] for idx in possibly_batched_index]\n  File \"<ipython-input-93-184edbcc4706>\", line 152, in __getitem__\n    print(traceback.format_exc())\nNameError: name 'traceback' is not defined\n",
     "output_type": "error",
     "traceback": [
      "\u001b[0;31m---------------------------------------------------------------------------\u001b[0m",
      "\u001b[0;31mNameError\u001b[0m                                 Traceback (most recent call last)",
      "\u001b[0;32m<ipython-input-96-bc548c438d66>\u001b[0m in \u001b[0;36m<module>\u001b[0;34m\u001b[0m\n\u001b[0;32m----> 1\u001b[0;31m \u001b[0mimages\u001b[0m\u001b[0;34m,\u001b[0m \u001b[0mlabels\u001b[0m \u001b[0;34m=\u001b[0m \u001b[0mnext\u001b[0m\u001b[0;34m(\u001b[0m\u001b[0miter\u001b[0m\u001b[0;34m(\u001b[0m\u001b[0mtrain_loader\u001b[0m\u001b[0;34m)\u001b[0m\u001b[0;34m)\u001b[0m\u001b[0;34m\u001b[0m\u001b[0;34m\u001b[0m\u001b[0m\n\u001b[0m",
      "\u001b[0;32m~/anaconda3/envs/AD_Heewon/lib/python3.7/site-packages/torch/utils/data/dataloader.py\u001b[0m in \u001b[0;36m__next__\u001b[0;34m(self)\u001b[0m\n\u001b[1;32m    519\u001b[0m             \u001b[0;32mif\u001b[0m \u001b[0mself\u001b[0m\u001b[0;34m.\u001b[0m\u001b[0m_sampler_iter\u001b[0m \u001b[0;32mis\u001b[0m \u001b[0;32mNone\u001b[0m\u001b[0;34m:\u001b[0m\u001b[0;34m\u001b[0m\u001b[0;34m\u001b[0m\u001b[0m\n\u001b[1;32m    520\u001b[0m                 \u001b[0mself\u001b[0m\u001b[0;34m.\u001b[0m\u001b[0m_reset\u001b[0m\u001b[0;34m(\u001b[0m\u001b[0;34m)\u001b[0m\u001b[0;34m\u001b[0m\u001b[0;34m\u001b[0m\u001b[0m\n\u001b[0;32m--> 521\u001b[0;31m             \u001b[0mdata\u001b[0m \u001b[0;34m=\u001b[0m \u001b[0mself\u001b[0m\u001b[0;34m.\u001b[0m\u001b[0m_next_data\u001b[0m\u001b[0;34m(\u001b[0m\u001b[0;34m)\u001b[0m\u001b[0;34m\u001b[0m\u001b[0;34m\u001b[0m\u001b[0m\n\u001b[0m\u001b[1;32m    522\u001b[0m             \u001b[0mself\u001b[0m\u001b[0;34m.\u001b[0m\u001b[0m_num_yielded\u001b[0m \u001b[0;34m+=\u001b[0m \u001b[0;36m1\u001b[0m\u001b[0;34m\u001b[0m\u001b[0;34m\u001b[0m\u001b[0m\n\u001b[1;32m    523\u001b[0m             \u001b[0;32mif\u001b[0m \u001b[0mself\u001b[0m\u001b[0;34m.\u001b[0m\u001b[0m_dataset_kind\u001b[0m \u001b[0;34m==\u001b[0m \u001b[0m_DatasetKind\u001b[0m\u001b[0;34m.\u001b[0m\u001b[0mIterable\u001b[0m \u001b[0;32mand\u001b[0m\u001b[0;31m \u001b[0m\u001b[0;31m\\\u001b[0m\u001b[0;34m\u001b[0m\u001b[0;34m\u001b[0m\u001b[0m\n",
      "\u001b[0;32m~/anaconda3/envs/AD_Heewon/lib/python3.7/site-packages/torch/utils/data/dataloader.py\u001b[0m in \u001b[0;36m_next_data\u001b[0;34m(self)\u001b[0m\n\u001b[1;32m   1201\u001b[0m             \u001b[0;32melse\u001b[0m\u001b[0;34m:\u001b[0m\u001b[0;34m\u001b[0m\u001b[0;34m\u001b[0m\u001b[0m\n\u001b[1;32m   1202\u001b[0m                 \u001b[0;32mdel\u001b[0m \u001b[0mself\u001b[0m\u001b[0;34m.\u001b[0m\u001b[0m_task_info\u001b[0m\u001b[0;34m[\u001b[0m\u001b[0midx\u001b[0m\u001b[0;34m]\u001b[0m\u001b[0;34m\u001b[0m\u001b[0;34m\u001b[0m\u001b[0m\n\u001b[0;32m-> 1203\u001b[0;31m                 \u001b[0;32mreturn\u001b[0m \u001b[0mself\u001b[0m\u001b[0;34m.\u001b[0m\u001b[0m_process_data\u001b[0m\u001b[0;34m(\u001b[0m\u001b[0mdata\u001b[0m\u001b[0;34m)\u001b[0m\u001b[0;34m\u001b[0m\u001b[0;34m\u001b[0m\u001b[0m\n\u001b[0m\u001b[1;32m   1204\u001b[0m \u001b[0;34m\u001b[0m\u001b[0m\n\u001b[1;32m   1205\u001b[0m     \u001b[0;32mdef\u001b[0m \u001b[0m_try_put_index\u001b[0m\u001b[0;34m(\u001b[0m\u001b[0mself\u001b[0m\u001b[0;34m)\u001b[0m\u001b[0;34m:\u001b[0m\u001b[0;34m\u001b[0m\u001b[0;34m\u001b[0m\u001b[0m\n",
      "\u001b[0;32m~/anaconda3/envs/AD_Heewon/lib/python3.7/site-packages/torch/utils/data/dataloader.py\u001b[0m in \u001b[0;36m_process_data\u001b[0;34m(self, data)\u001b[0m\n\u001b[1;32m   1227\u001b[0m         \u001b[0mself\u001b[0m\u001b[0;34m.\u001b[0m\u001b[0m_try_put_index\u001b[0m\u001b[0;34m(\u001b[0m\u001b[0;34m)\u001b[0m\u001b[0;34m\u001b[0m\u001b[0;34m\u001b[0m\u001b[0m\n\u001b[1;32m   1228\u001b[0m         \u001b[0;32mif\u001b[0m \u001b[0misinstance\u001b[0m\u001b[0;34m(\u001b[0m\u001b[0mdata\u001b[0m\u001b[0;34m,\u001b[0m \u001b[0mExceptionWrapper\u001b[0m\u001b[0;34m)\u001b[0m\u001b[0;34m:\u001b[0m\u001b[0;34m\u001b[0m\u001b[0;34m\u001b[0m\u001b[0m\n\u001b[0;32m-> 1229\u001b[0;31m             \u001b[0mdata\u001b[0m\u001b[0;34m.\u001b[0m\u001b[0mreraise\u001b[0m\u001b[0;34m(\u001b[0m\u001b[0;34m)\u001b[0m\u001b[0;34m\u001b[0m\u001b[0;34m\u001b[0m\u001b[0m\n\u001b[0m\u001b[1;32m   1230\u001b[0m         \u001b[0;32mreturn\u001b[0m \u001b[0mdata\u001b[0m\u001b[0;34m\u001b[0m\u001b[0;34m\u001b[0m\u001b[0m\n\u001b[1;32m   1231\u001b[0m \u001b[0;34m\u001b[0m\u001b[0m\n",
      "\u001b[0;32m~/anaconda3/envs/AD_Heewon/lib/python3.7/site-packages/torch/_utils.py\u001b[0m in \u001b[0;36mreraise\u001b[0;34m(self)\u001b[0m\n\u001b[1;32m    432\u001b[0m             \u001b[0;31m# instantiate since we don't know how to\u001b[0m\u001b[0;34m\u001b[0m\u001b[0;34m\u001b[0m\u001b[0;34m\u001b[0m\u001b[0m\n\u001b[1;32m    433\u001b[0m             \u001b[0;32mraise\u001b[0m \u001b[0mRuntimeError\u001b[0m\u001b[0;34m(\u001b[0m\u001b[0mmsg\u001b[0m\u001b[0;34m)\u001b[0m \u001b[0;32mfrom\u001b[0m \u001b[0;32mNone\u001b[0m\u001b[0;34m\u001b[0m\u001b[0;34m\u001b[0m\u001b[0m\n\u001b[0;32m--> 434\u001b[0;31m         \u001b[0;32mraise\u001b[0m \u001b[0mexception\u001b[0m\u001b[0;34m\u001b[0m\u001b[0;34m\u001b[0m\u001b[0m\n\u001b[0m\u001b[1;32m    435\u001b[0m \u001b[0;34m\u001b[0m\u001b[0m\n\u001b[1;32m    436\u001b[0m \u001b[0;34m\u001b[0m\u001b[0m\n",
      "\u001b[0;31mNameError\u001b[0m: Caught NameError in DataLoader worker process 0.\nOriginal Traceback (most recent call last):\n  File \"<ipython-input-93-184edbcc4706>\", line 73, in __getitem__\n    all_segs = list(os.listdir(path))\nFileNotFoundError: [Errno 2] No such file or directory: '/gpfs/data/razavianlab/data/mri/adni_pp_all/ADNI_processed/subjects/sub-ADNI041S0262/ses-M12/t1/spm/segmentation/normalized_space'\n\nDuring handling of the above exception, another exception occurred:\n\nTraceback (most recent call last):\n  File \"/home/ubuntu/anaconda3/envs/AD_Heewon/lib/python3.7/site-packages/torch/utils/data/_utils/worker.py\", line 287, in _worker_loop\n    data = fetcher.fetch(index)\n  File \"/home/ubuntu/anaconda3/envs/AD_Heewon/lib/python3.7/site-packages/torch/utils/data/_utils/fetch.py\", line 49, in fetch\n    data = [self.dataset[idx] for idx in possibly_batched_index]\n  File \"/home/ubuntu/anaconda3/envs/AD_Heewon/lib/python3.7/site-packages/torch/utils/data/_utils/fetch.py\", line 49, in <listcomp>\n    data = [self.dataset[idx] for idx in possibly_batched_index]\n  File \"<ipython-input-93-184edbcc4706>\", line 152, in __getitem__\n    print(traceback.format_exc())\nNameError: name 'traceback' is not defined\n"
     ]
    }
   ],
   "source": [
    "# 첫번재 iteration에서 나오는 데이터 확인\n",
    "\n",
    "images, labels = next(iter(train_loader))"
   ]
  }
 ],
 "metadata": {
  "kernelspec": {
   "display_name": "Environment (conda_ad_heewon)",
   "language": "python",
   "name": "conda_ad_heewon"
  },
  "language_info": {
   "codemirror_mode": {
    "name": "ipython",
    "version": 3
   },
   "file_extension": ".py",
   "mimetype": "text/x-python",
   "name": "python",
   "nbconvert_exporter": "python",
   "pygments_lexer": "ipython3",
   "version": "3.7.10"
  }
 },
 "nbformat": 4,
 "nbformat_minor": 5
}
